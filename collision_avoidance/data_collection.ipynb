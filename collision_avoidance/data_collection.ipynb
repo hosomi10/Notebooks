{
 "cells": [
  {
   "cell_type": "markdown",
   "metadata": {},
   "source": [
    "## 教師データ収集用スクリプト"
   ]
  },
  {
   "cell_type": "markdown",
   "metadata": {},
   "source": [
    "衝突回避を学習するためのデータを収集します。\n",
    "jetbotは走りながらカメラから画像を取り込み、画像をもとに次の行動を決定します。\n",
    "このタスクでjetbotに必要なことは、障害物がなければまっすぐ進み、障害物があれば左折して回避することの二つです。\n",
    "よって、「障害物がない写真」、「障害物がある写真」の2パターンを用意する必要があります。\n",
    "このスクリプトでは、実際にjetbotを遠隔操作で走らせ、直進する(=障害物がない)か左折する(=障害物がある)かを選択します。\n",
    "直進中に撮られた写真には直進のラベルがつけられ、左折中に撮られた写真には左折のラベルがつけられます。\n",
    "AIはこのデータを使って、どれが直進していい画像なのかを学習することになります。"
   ]
  },
  {
   "cell_type": "markdown",
   "metadata": {},
   "source": [
    "AIに使うニューラルネットワークの入力サイズに合わせて、カメラの画像を224px×224pxで保存します。"
   ]
  },
  {
   "cell_type": "code",
   "execution_count": 1,
   "metadata": {},
   "outputs": [],
   "source": [
    "import traitlets\n",
    "import ipywidgets.widgets as widgets\n",
    "from IPython.display import display\n",
    "from jetbot import Camera, bgr8_to_jpeg\n",
    "\n",
    "camera = Camera.instance(width=224, height=224)\n",
    "\n",
    "image = widgets.Image(format='jpeg', width=224, height=224)  # this width and height doesn't necessarily have to match the camera\n",
    "cap_image = widgets.Image(format='jpeg', width=224, height=224)\n",
    "\n",
    "camera_link = traitlets.dlink((camera, 'value'), (image, 'value'), transform=bgr8_to_jpeg)\n"
   ]
  },
  {
   "cell_type": "markdown",
   "metadata": {},
   "source": [
    "画像を保存するフォルダを設定します。\n",
    "障害物のない画像は`dataset/free`に、障害物のある画像は`dataset/blocked`に保存します。"
   ]
  },
  {
   "cell_type": "code",
   "execution_count": 2,
   "metadata": {},
   "outputs": [
    {
     "name": "stdout",
     "output_type": "stream",
     "text": [
      "Directories not created becasue they already exist\n"
     ]
    }
   ],
   "source": [
    "import os\n",
    "\n",
    "blocked_dir = 'dataset/blocked'\n",
    "free_dir = 'dataset/free'\n",
    "\n",
    "# we have this \"try/except\" statement because these next functions can throw an error if the directories exist already\n",
    "try:\n",
    "    os.makedirs(free_dir)\n",
    "    os.makedirs(blocked_dir)\n",
    "except FileExistsError:\n",
    "    print('Directories not created becasue they already exist')"
   ]
  },
  {
   "cell_type": "markdown",
   "metadata": {},
   "source": [
    "操作ボタンを定義します。"
   ]
  },
  {
   "cell_type": "code",
   "execution_count": 4,
   "metadata": {},
   "outputs": [
    {
     "data": {
      "application/vnd.jupyter.widget-view+json": {
       "model_id": "1cf9970a422043928d562d7feaa09faf",
       "version_major": 2,
       "version_minor": 0
      },
      "text/plain": [
       "Controller()"
      ]
     },
     "metadata": {},
     "output_type": "display_data"
    }
   ],
   "source": [
    "button_layout = widgets.Layout(width='150px', height='48px')\n",
    "counter_layout = widgets.Layout(width='150px', height='30px')\n",
    "text_layout = widgets.Layout(width='256px', height='30px')\n",
    "\n",
    "free_count = widgets.IntText(layout=counter_layout, value=len(os.listdir(free_dir)),description='free')\n",
    "blocked_count = widgets.IntText(layout=counter_layout, value=len(os.listdir(blocked_dir)),description='blocked')\n",
    "\n",
    "capture_free_button = widgets.Button(description='Capture free', button_style='success', layout=button_layout)\n",
    "capture_blocked_button = widgets.Button(description='Capture blocked', button_style='danger', layout=button_layout)\n",
    "\n",
    "free_button = widgets.Button(description='Forward', button_style='success', layout=button_layout)\n",
    "stop_button = widgets.Button(description='Stop', button_style='info', layout=button_layout)\n",
    "blocked_button = widgets.Button(description='Left', button_style='danger', layout=button_layout)\n",
    " \n",
    "speed_slider=widgets.FloatSlider(description='speed',value=0.3,min=0,max=1,step=0.01)\n",
    "turn_slider=widgets.FloatSlider(description='turn left',value=0.3,min=0,max=1,step=0.01)\n",
    "\n",
    "#joypad\n",
    "controller = widgets.Controller(index=0)  # replace with index of your controller\n",
    "display(controller)\n",
    "\n",
    "zip_text=widgets.Text(layout=text_layout, value=\"dataset\",description='zipfile:')"
   ]
  },
  {
   "cell_type": "markdown",
   "metadata": {},
   "source": [
    "各フォルダに写真を保存するメソッドを定義しています。"
   ]
  },
  {
   "cell_type": "code",
   "execution_count": 5,
   "metadata": {},
   "outputs": [],
   "source": [
    "from uuid import uuid1\n",
    "\n",
    "def save_snapshot(directory):\n",
    "    cap_image=image\n",
    "    image_path = os.path.join(directory, str(uuid1()) + '.jpg')\n",
    "    with open(image_path, 'wb') as f:\n",
    "        f.write(cap_image.value)\n",
    "def save_free():\n",
    "    global free_dir, free_count\n",
    "    save_snapshot(free_dir)\n",
    "    free_count.value = len(os.listdir(free_dir))\n",
    "    \n",
    "def save_blocked():\n",
    "    global blocked_dir, blocked_count\n",
    "    save_snapshot(blocked_dir)\n",
    "    blocked_count.value = len(os.listdir(blocked_dir))\n",
    "\n",
    "def save_free_joypad(change):\n",
    "    global free_dir, free_count\n",
    "    if change['new']:\n",
    "        save_snapshot(free_dir)\n",
    "        free_count.value = len(os.listdir(free_dir))\n",
    "\n",
    "def save_blocked_joypad(change):\n",
    "    global blocked_dir, blocked_count\n",
    "    if change['new']:\n",
    "        save_snapshot(blocked_dir)\n",
    "        blocked_count.value = len(os.listdir(blocked_dir))\n",
    "\n",
    "capture_free_button.on_click(lambda x: save_free())\n",
    "capture_blocked_button.on_click(lambda x: save_blocked())\n",
    "\n",
    "#joypad 「〇」->free,「×」->blocked\n",
    "controller.buttons[0].observe(save_blocked_joypad, names='value')\n",
    "controller.buttons[1].observe(save_free_joypad, names='value')"
   ]
  },
  {
   "cell_type": "markdown",
   "metadata": {},
   "source": [
    "モータを制御するため、Robotインスタンスを生成します。"
   ]
  },
  {
   "cell_type": "code",
   "execution_count": 6,
   "metadata": {},
   "outputs": [],
   "source": [
    "from jetbot import Robot\n",
    "import traitlets\n",
    "\n",
    "robot = Robot()\n",
    "\n",
    "left_link = traitlets.dlink((controller.axes[1], 'value'), (robot.left_motor, 'value'), transform=lambda x: -x/1.5)\n",
    "right_link = traitlets.dlink((controller.axes[3], 'value'), (robot.right_motor, 'value'), transform=lambda x: -x/1.5)"
   ]
  },
  {
   "cell_type": "markdown",
   "metadata": {},
   "source": [
    "ボタンを押したときのjetbotの挙動を定義します。\n",
    "前進の時は前進し続けながら一定間隔で画像を保存します。\n",
    "左折の時は、写真を撮り、少し左へ方向転換して止まります。\n",
    "これは、直進の時はあまり操作が必要ないので効率性を重視し、障害物を回避するときには慎重に操作する必要があるので確実性を重視したためです。"
   ]
  },
  {
   "cell_type": "code",
   "execution_count": 7,
   "metadata": {},
   "outputs": [],
   "source": [
    "import time\n",
    "\n",
    "isFree = False\n",
    "isRunning = False\n",
    "stepcount = 0\n",
    "\n",
    "def set_forward(change):\n",
    "    global stepcount, isFree, isRunning, robot\n",
    "    stepcount = 0\n",
    "    isRunning = True\n",
    "    isFree = True\n",
    "\n",
    "def set_left(change):\n",
    "    global stepcount, isFree, isRunning, robot\n",
    "    robot.stop()\n",
    "    save_blocked()\n",
    "    robot.left(turn_slider.value)\n",
    "    stepcount = 0\n",
    "    isRunning = True\n",
    "    isFree = False\n",
    "            \n",
    "\n",
    "def update(change):\n",
    "    global stepcount, isFree, isRunning, robot\n",
    "    time.sleep(0.001)\n",
    "    if(isRunning):\n",
    "        if(isFree):\n",
    "            if(stepcount % 25 == 0):\n",
    "                robot.stop()\n",
    "                save_free()\n",
    "                robot.forward(speed_slider.value)\n",
    "        else:\n",
    "            if(stepcount % 6 == 5):\n",
    "                isRunning = False\n",
    "                robot.stop()\n",
    "        stepcount += 1\n",
    "        \n",
    "    \n",
    "def stop(change):\n",
    "    global isRunning, robot\n",
    "    isRunning = False\n",
    "    robot.stop()\n",
    "\n",
    "free_button.on_click(set_forward)\n",
    "blocked_button.on_click(set_left)\n",
    "stop_button.on_click(stop)"
   ]
  },
  {
   "cell_type": "markdown",
   "metadata": {},
   "source": [
    "UIを表示させます。UIを構成するのはカメラからのイメージと操作パネルです。\n",
    "操作パネル上段には、直進ボタンと直進フォルダに保存された画像の数が表示されます。\n",
    "また、中段には左折ボタンと左折フォルダに保存された画像の数を表示されます。\n",
    "最後に止まるボタンを表示します。"
   ]
  },
  {
   "cell_type": "code",
   "execution_count": 8,
   "metadata": {},
   "outputs": [
    {
     "data": {
      "application/vnd.jupyter.widget-view+json": {
       "model_id": "dfe17cdb60264072b72546f03895f5ec",
       "version_major": 2,
       "version_minor": 0
      },
      "text/plain": [
       "Image(value=b'\\xff\\xd8\\xff\\xe0\\x00\\x10JFIF\\x00\\x01\\x01\\x00\\x00\\x01\\x00\\x01\\x00\\x00\\xff\\xdb\\x00C\\x00\\x02\\x01\\x0…"
      ]
     },
     "metadata": {},
     "output_type": "display_data"
    },
    {
     "data": {
      "application/vnd.jupyter.widget-view+json": {
       "model_id": "bb76392215e747daac9e72c8cb095079",
       "version_major": 2,
       "version_minor": 0
      },
      "text/plain": [
       "HBox(children=(IntText(value=133, description='free', layout=Layout(height='30px', width='150px')), IntText(va…"
      ]
     },
     "metadata": {},
     "output_type": "display_data"
    },
    {
     "data": {
      "application/vnd.jupyter.widget-view+json": {
       "model_id": "e99c3ec8fa8b433ab24c1df0a20af86e",
       "version_major": 2,
       "version_minor": 0
      },
      "text/plain": [
       "HBox(children=(Button(button_style='success', description='Capture free', layout=Layout(height='48px', width='…"
      ]
     },
     "metadata": {},
     "output_type": "display_data"
    },
    {
     "data": {
      "application/vnd.jupyter.widget-view+json": {
       "model_id": "b596d021a15a48d591b4c75b5c172a3a",
       "version_major": 2,
       "version_minor": 0
      },
      "text/plain": [
       "HBox(children=(Button(button_style='success', description='Forward', layout=Layout(height='48px', width='150px…"
      ]
     },
     "metadata": {},
     "output_type": "display_data"
    },
    {
     "data": {
      "application/vnd.jupyter.widget-view+json": {
       "model_id": "2910524ea32c4a299ac9b6f9caec00a8",
       "version_major": 2,
       "version_minor": 0
      },
      "text/plain": [
       "Button(button_style='info', description='Stop', layout=Layout(height='48px', width='150px'), style=ButtonStyle…"
      ]
     },
     "metadata": {},
     "output_type": "display_data"
    },
    {
     "data": {
      "application/vnd.jupyter.widget-view+json": {
       "model_id": "5a3027aefa1d4f68840b087691a7e663",
       "version_major": 2,
       "version_minor": 0
      },
      "text/plain": [
       "FloatSlider(value=0.3, description='speed', max=1.0, step=0.01)"
      ]
     },
     "metadata": {},
     "output_type": "display_data"
    },
    {
     "data": {
      "application/vnd.jupyter.widget-view+json": {
       "model_id": "c1a5a028624341cc95a2edce906a6650",
       "version_major": 2,
       "version_minor": 0
      },
      "text/plain": [
       "FloatSlider(value=0.3, description='turn left', max=1.0, step=0.01)"
      ]
     },
     "metadata": {},
     "output_type": "display_data"
    }
   ],
   "source": [
    "display(image)\n",
    "Counter=widgets.HBox([free_count,blocked_count])\n",
    "Capture=widgets.HBox([capture_free_button,capture_blocked_button])\n",
    "Foward_Left=widgets.HBox([free_button,blocked_button])\n",
    "display(Counter)\n",
    "display(Capture)\n",
    "display(Foward_Left)\n",
    "display(stop_button)\n",
    "display(speed_slider)\n",
    "display(turn_slider)\n",
    "#display(zip_text)"
   ]
  },
  {
   "cell_type": "markdown",
   "metadata": {},
   "source": [
    "カメラに先ほど定義したメソッドを紐づけます。\n",
    "カメラの画像が更新されるたびにupdateメソッドが呼ばれることになります。\n",
    "これを実行することで、ボタンを押すとjetbotが走り出すようになります。"
   ]
  },
  {
   "cell_type": "code",
   "execution_count": 9,
   "metadata": {},
   "outputs": [],
   "source": [
    "camera.observe(update, names='value')"
   ]
  },
  {
   "cell_type": "markdown",
   "metadata": {},
   "source": [
    "以下はデータ収集の終了後に実行する処理です。\n",
    "updateメソッドとカメラとの関連付けを外します。\n",
    "また、jetbotを停止させます。"
   ]
  },
  {
   "cell_type": "code",
   "execution_count": 9,
   "metadata": {},
   "outputs": [],
   "source": [
    "camera.unobserve(update, names='value')\n",
    "robot.stop()"
   ]
  },
  {
   "cell_type": "markdown",
   "metadata": {},
   "source": [
    "datasetフォルダの中身をzipファイルにして保存し、ダウンロード可能にします。\n",
    "jetbot上で学習も行う場合は不要です。"
   ]
  },
  {
   "cell_type": "code",
   "execution_count": 9,
   "metadata": {},
   "outputs": [
    {
     "ename": "SyntaxError",
     "evalue": "invalid syntax (<ipython-input-9-0015766eaea9>, line 1)",
     "output_type": "error",
     "traceback": [
      "\u001b[1;36m  File \u001b[1;32m\"<ipython-input-9-0015766eaea9>\"\u001b[1;36m, line \u001b[1;32m1\u001b[0m\n\u001b[1;33m    zip -r -q dataset.zip dataset\u001b[0m\n\u001b[1;37m                    ^\u001b[0m\n\u001b[1;31mSyntaxError\u001b[0m\u001b[1;31m:\u001b[0m invalid syntax\n"
     ]
    }
   ],
   "source": [
    "!zip -r -q dataset.zip dataset"
   ]
  },
  {
   "cell_type": "code",
   "execution_count": null,
   "metadata": {},
   "outputs": [],
   "source": []
  }
 ],
 "metadata": {
  "celltoolbar": "Tags",
  "kernelspec": {
   "display_name": "Python 3",
   "language": "python",
   "name": "python3"
  },
  "language_info": {
   "codemirror_mode": {
    "name": "ipython",
    "version": 3
   },
   "file_extension": ".py",
   "mimetype": "text/x-python",
   "name": "python",
   "nbconvert_exporter": "python",
   "pygments_lexer": "ipython3",
   "version": "3.6.9"
  }
 },
 "nbformat": 4,
 "nbformat_minor": 2
}
