{
 "cells": [
  {
   "cell_type": "markdown",
   "metadata": {},
   "source": [
    "# Object Detect & Find - Live Demo\n",
    "\n",
    "In this notebook we'll show how you can seek & find an object with JetBot!  We'll use a pre-trained quantized COCO SSD MobileNet v1 model.\n",
    "https://www.tensorflow.org/lite/models/object_detection/overview\n",
    "#### Uses and limitations\n",
    "The object detection model we provide can identify and locate up to 10 objects in an image. It is trained to recognize 80 classes of object.\n",
    "If you want to train a model to recognize new classes, see Customize model(https://www.tensorflow.org/lite/models/object_detection/overview#customize_model)."
   ]
  },
  {
   "cell_type": "markdown",
   "metadata": {},
   "source": [
    "### Compute detections on single camera image"
   ]
  },
  {
   "cell_type": "code",
   "execution_count": 4,
   "metadata": {
    "slideshow": {
     "slide_type": "-"
    }
   },
   "outputs": [],
   "source": [
    "from jetbot import Camera\n",
    "\n",
    "camera = Camera.instance(width=300, height=300)"
   ]
  },
  {
   "cell_type": "markdown",
   "metadata": {},
   "source": [
    "## TFLite\n",
    "#### Input\n",
    "The model takes an image as input. The expected image is 300x300 pixels, with three channels (red, blue, and green) per pixel. This should be fed to the model as a flattened buffer of 270,000 byte values (300x300x3). Since the model is quantized, each value should be a single byte representing a value between 0 and 255.\n",
    "#### Output\n",
    "The model outputs four arrays, mapped to the indices 0-4. Arrays 0, 1, and 2 describe 10 detected objects, with one element in each array corresponding to each object. There will always be 10 objects detected.\n",
    "0 \tLocations,  1 \tClasses, 2 \tScores, 3 \tNumber and detections\n",
    "\n",
    "## TensorRT\n",
    "Internally, the ``ObjectDetector`` class uses the TensorRT Python API to execute the engine that we provide.  It also takes care of preprocessing the input to the neural network, as well as parsing the detected objects.  Right now it will only work for engines created using the ``jetbot.ssd_tensorrt`` package. That package has the utilities for converting the model from the TensorFlow object detection API to an optimized TensorRT engine.\n",
    "\n",
    "Next, let's initialize our camera.  Our detector takes 300x300 pixel input, so we'll set this when creating the camera.\n",
    "\n",
    "> Internally, the Camera class uses GStreamer to take advantage of Jetson Nano's Image Signal Processor (ISP).  This is super fast and offloads\n",
    "> a lot of the resizing computation from the CPU. "
   ]
  },
  {
   "cell_type": "code",
   "execution_count": 1,
   "metadata": {},
   "outputs": [],
   "source": [
    "from tflite_runtime.interpreter import Interpreter\n",
    "import re\n",
    "import numpy as np\n",
    "\n",
    "def load_labels(path):\n",
    "  \"\"\"Loads the labels file. Supports files with or without index numbers.\"\"\"\n",
    "  with open(path, 'r', encoding='utf-8') as f:\n",
    "    lines = f.readlines()\n",
    "    labels = {}\n",
    "    for row_number, content in enumerate(lines):\n",
    "      pair = re.split(r'[:\\s]+', content.strip(), maxsplit=1)\n",
    "      if len(pair) == 2 and pair[0].strip().isdigit():\n",
    "        labels[int(pair[0])] = pair[1].strip()\n",
    "      \n",
    "      else:\n",
    "        labels[row_number] = pair[0].strip()\n",
    "  \n",
    "  return labels\n",
    "\n",
    "# labels = load_labels('labelmap.txt')\n",
    "with open('../object_detection/labelmap.txt', 'r') as F:\n",
    "     class_names = F.readlines()\n",
    "        \n",
    "interpreter = Interpreter('../object_detection/detect.tflite')\n",
    "interpreter.allocate_tensors()\n",
    "input_details = interpreter.get_input_details()\n",
    "output_details = interpreter.get_output_details()"
   ]
  },
  {
   "cell_type": "markdown",
   "metadata": {},
   "source": [
    "Now, let's execute our network using some camera input.  By default the ``ObjectDetector`` class expects ``bgr8`` format that the camera produces.  However,\n",
    "you could override the default pre-processing function if your input is in a different format."
   ]
  },
  {
   "cell_type": "code",
   "execution_count": 1,
   "metadata": {},
   "outputs": [],
   "source": [
    "from jetbot import ObjectDetector\n",
    "\n",
    "model = ObjectDetector('ssd_mobilenet_v2_coco.engine')"
   ]
  },
  {
   "cell_type": "markdown",
   "metadata": {},
   "source": [
    "According to pretrained model, it may have a pre-processing different format like float32(uint8) or pixel size."
   ]
  },
  {
   "cell_type": "code",
   "execution_count": null,
   "metadata": {},
   "outputs": [],
   "source": [
    "import cv2\n",
    "import numpy as np\n",
    "\n",
    "def bgr8_to_tf_input(img):\n",
    "    x = cv2.resize(img, (300, 300))\n",
    "    x = x[:, :, [2,1,0]]  # BGR -> RGB\n",
    "    x = np.expand_dims(x, axis=0) # 3->4\n",
    "    return x\n",
    "\n",
    "img = bgr8_to_tf_input(camera.value)\n",
    "# img = cv2.imread('chairs.jpg')\n",
    "test_x = bgr8_to_tf_input(img)"
   ]
  },
  {
   "cell_type": "markdown",
   "metadata": {},
   "source": [
    "## TensorRT model\n",
    "If there are any COCO objects in the camera's field of view, they should now be stored in the ``detections`` variable."
   ]
  },
  {
   "cell_type": "code",
   "execution_count": 6,
   "metadata": {},
   "outputs": [
    {
     "name": "stdout",
     "output_type": "stream",
     "text": [
      "elapsed time=265.81469399934576\n",
      "[[{'label': 72, 'confidence': 0.9341553449630737, 'bbox': [0.5708431601524353, 0.07103028893470764, 0.9479846358299255, 0.5153477191925049]}, {'label': 1, 'confidence': 0.7708099484443665, 'bbox': [0.2301267385482788, 0.13638506829738617, 0.3498685359954834, 0.3965451121330261]}, {'label': 73, 'confidence': 0.5355843305587769, 'bbox': [0.334503173828125, 0.22310680150985718, 0.5233591198921204, 0.4008357524871826]}, {'label': 73, 'confidence': 0.3796083629131317, 'bbox': [0.5769811868667603, 0.07369008660316467, 0.944791316986084, 0.5196888446807861]}]]\n"
     ]
    }
   ],
   "source": [
    "import time\n",
    "\n",
    "start_time = time.monotonic()\n",
    "\n",
    "detections = model(camera.value)\n",
    "\n",
    "elapsed_ms = (time.monotonic() - start_time) * 1000\n",
    "print('elapsed time={}'.format(elapsed_ms))\n",
    "\n",
    "print(detections)"
   ]
  },
  {
   "cell_type": "markdown",
   "metadata": {},
   "source": [
    "## TFLite model\n",
    "Set an image to Interpreter of TFLite runtime. Run detect interpreter from invoke API.\n",
    "Allocate detect results to any array."
   ]
  },
  {
   "cell_type": "code",
   "execution_count": 3,
   "metadata": {},
   "outputs": [
    {
     "name": "stdout",
     "output_type": "stream",
     "text": [
      "elapsed time=547.0000000022992\n"
     ]
    }
   ],
   "source": [
    "import time\n",
    "\n",
    "start_time = time.monotonic()\n",
    "\n",
    "interpreter.set_tensor(input_details[0]['index'], test_x)\n",
    "\n",
    "interpreter.invoke()\n",
    "\n",
    "elapsed_ms = (time.monotonic() - start_time) * 1000\n",
    "print('elapsed time={}'.format(elapsed_ms))\n",
    "\n",
    "bbox = interpreter.get_tensor(output_details[0]['index'])  # Locations (Top, Left, Bottom, Right)\n",
    "class_label = interpreter.get_tensor(output_details[1]['index'])  # Classes (0=Person or 0=unlabeled)\n",
    "score = interpreter.get_tensor(output_details[2]['index'])  # Scores\n",
    "total_detects = interpreter.get_tensor(output_details[3]['index'])  # Number of detections\n"
   ]
  },
  {
   "cell_type": "markdown",
   "metadata": {},
   "source": [
    "### Display detections in text area\n",
    "\n",
    "We'll use the code below to print out the detected objects."
   ]
  },
  {
   "cell_type": "code",
   "execution_count": 6,
   "metadata": {},
   "outputs": [
    {
     "name": "stdout",
     "output_type": "stream",
     "text": [
      "Location=(198,120)-(271,244)\n",
      "Class=chair\n",
      "Probability=0.7578125\n",
      "Dis=145.09704723145617\n",
      "Location=(84,119)-(186,292)\n",
      "Class=chair\n",
      "Probability=0.7578125\n",
      "Dis=95.95022873285181\n",
      "Location=(31,84)-(94,207)\n",
      "Class=chair\n",
      "Probability=0.65625\n",
      "Dis=177.59840900673376\n"
     ]
    }
   ],
   "source": [
    "from IPython.display import display\n",
    "import ipywidgets.widgets as widgets\n",
    "\n",
    "NumofDetects = int(total_detects[0])\n",
    "\n",
    "dstimg = bytes(cv2.resize(img, (300, 300)))\n",
    "              \n",
    "for i in range(NumofDetects):\n",
    "    prob = score[0, i]\n",
    "    class_name = class_names[class_label[0, i].astype(int)+ 1].rstrip()\n",
    "    (top, left, bottom, right) = bbox[0, i] * 300\n",
    "    center_x = (right + left) / 2.0 - 0.5\n",
    "    center_y = (bottom + top) / 2.0 - 0.5\n",
    "    dis= np.sqrt((150-center_x)**2 + (300-center_y)**2)\n",
    "    if prob >= 0.65:\n",
    "        print(\"Location=({},{})-({},{})\".format(int(left), int(top), int(right), int(bottom)))\n",
    "        print(\"Class={}\".format(class_name))\n",
    "        print(\"Probability={}\".format(prob))\n",
    "        print(\"Dis={}\".format(dis))\n"
   ]
  },
  {
   "cell_type": "markdown",
   "metadata": {},
   "source": [
    "You should see the label, confidence, and bounding box of each object detected in each image.  There's only one image (our camera) in this example. \n",
    "\n",
    "\n",
    "To print just the first object detected in the first image, we could call the following\n",
    "\n",
    "> This may throw an error if no objects are detected"
   ]
  },
  {
   "cell_type": "code",
   "execution_count": 40,
   "metadata": {},
   "outputs": [],
   "source": [
    "cv2.imshow(\"test image\", img)\n",
    "cv2.moveWindow(\"test image\", 0, 0)\n",
    "cv2.waitKey(0)\n",
    "cv2.destroyAllWindows()\n",
    "\n",
    "# image_number = 0\n",
    "# object_number = 0\n",
    "# print(detections[image_number][object_number])"
   ]
  },
  {
   "cell_type": "markdown",
   "metadata": {},
   "source": [
    "### Control robot to follow central object\n",
    "\n",
    "Now we want our robot to follow an object of the specified class.  To do this we'll do the following\n",
    "\n",
    "1.  Detect objects matching the specified class\n",
    "2.  Select object closest to center of camera's field of vision, this is the 'target' object\n",
    "3.  Steer robot towards target object, otherwise wander\n",
    "4.  If we're blocked by an obstacle, turn left\n",
    "\n",
    "We'll also create some widgets that we'll use to control the target object label, the robot speed, and\n",
    "a \"turn gain\", that will control how fast the robot turns based off the distance between the target object\n",
    "and the center of the robot's field of view. \n",
    "\n",
    "\n",
    "First, let's load our collision detection model.  The pre-trained model is stored in this directory as a convenience, but if you followed\n",
    "the collision avoidance example you may want to use that model if it's better tuned for your robot's environment."
   ]
  },
  {
   "cell_type": "code",
   "execution_count": null,
   "metadata": {},
   "outputs": [],
   "source": [
    "import torch\n",
    "import torchvision\n",
    "import torch.nn.functional as F\n",
    "import cv2\n",
    "import numpy as np\n",
    "\n",
    "collision_model = torchvision.models.alexnet(pretrained=False)\n",
    "collision_model.classifier[6] = torch.nn.Linear(collision_model.classifier[6].in_features, 2)\n",
    "collision_model.load_state_dict(torch.load('../collision_avoidance/best_model.pth'))\n",
    "device = torch.device('cuda')\n",
    "collision_model = collision_model.to(device)\n",
    "\n",
    "mean = 255.0 * np.array([0.485, 0.456, 0.406])\n",
    "stdev = 255.0 * np.array([0.229, 0.224, 0.225])\n",
    "\n",
    "normalize = torchvision.transforms.Normalize(mean, stdev)\n",
    "\n",
    "def preprocess(camera_value):\n",
    "    global device, normalize\n",
    "    x = camera_value\n",
    "    x = cv2.resize(x, (224, 224))\n",
    "    x = cv2.cvtColor(x, cv2.COLOR_BGR2RGB)\n",
    "    x = x.transpose((2, 0, 1))\n",
    "    x = torch.from_numpy(x).float()\n",
    "    x = normalize(x)\n",
    "    x = x.to(device)\n",
    "    x = x[None, ...]\n",
    "    return x"
   ]
  },
  {
   "cell_type": "markdown",
   "metadata": {},
   "source": [
    "Great, now let's initialize our robot so we can control the motors."
   ]
  },
  {
   "cell_type": "code",
   "execution_count": null,
   "metadata": {},
   "outputs": [],
   "source": [
    "from jetbot import Robot\n",
    "\n",
    "robot = Robot()"
   ]
  },
  {
   "cell_type": "markdown",
   "metadata": {},
   "source": [
    "Finally, let's display all the control widgets and connect the network execution function to the camera updates."
   ]
  },
  {
   "cell_type": "code",
   "execution_count": 8,
   "metadata": {},
   "outputs": [
    {
     "data": {
      "application/vnd.jupyter.widget-view+json": {
       "model_id": "96c10a802dba4e65af792de8e9326b80",
       "version_major": 2,
       "version_minor": 0
      },
      "text/plain": [
       "VBox(children=(HBox(children=(Image(value=b'', format='jpeg', height='300', width='300'), FloatSlider(value=0.…"
      ]
     },
     "metadata": {},
     "output_type": "display_data"
    }
   ],
   "source": [
    "# widget generation\n",
    "blocked_widget = widgets.FloatSlider(min=0.0, max=1.0, value=0.0, description='blocked')\n",
    "distance_widget = widgets.FloatSlider(value=50.0, min=0.0, max=300.0, description='Dis threshold')\n",
    "image_widget = widgets.Image(format='jpeg', width=300, height=300)\n",
    "label_widget = widgets.IntText(value=1, description='tracked label')\n",
    "speed_widget = widgets.FloatSlider(value=0.4, min=0.0, max=1.0, description='speed')\n",
    "turn_gain_widget = widgets.FloatSlider(value=0.8, min=0.0, max=2.0, description='turn gain')\n",
    "detections_widget = widgets.Textarea()\n",
    "detections_widget.value = str(class_names[label_widget.value].rstrip())\n",
    "#display(detections_widget)\n",
    "\n",
    "display(widgets.VBox([\n",
    "    widgets.HBox([image_widget, blocked_widget]),\n",
    "    label_widget,\n",
    "    detections_widget,\n",
    "    speed_widget,\n",
    "    turn_gain_widget,\n",
    "    distance_widget\n",
    "]))\n",
    "\n",
    "width = int(image_widget.width)\n",
    "height = int(image_widget.height)\n",
    "# image_widget.value = dstimg"
   ]
  },
  {
   "cell_type": "code",
   "execution_count": null,
   "metadata": {},
   "outputs": [],
   "source": [
    "from jetbot import bgr8_to_jpeg\n",
    "\n",
    "def detection_center(detection):\n",
    "    \"\"\"Computes the center x, y coordinates of the object\"\"\"\n",
    "    bbox = detection['bbox']\n",
    "    center_x = (bbox[0] + bbox[2]) / 2.0 - 0.5\n",
    "    center_y = (bbox[1] + bbox[3]) / 2.0 - 0.5\n",
    "    return (center_x, center_y)\n",
    "    \n",
    "def norm(vec):\n",
    "    \"\"\"Computes the length of the 2D vector\"\"\"\n",
    "    return np.sqrt(vec[0]**2 + vec[1]**2)\n",
    "\n",
    "def closest_detection(detections):\n",
    "    \"\"\"Finds the detection closest to the image center\"\"\"\n",
    "    closest_detection = None\n",
    "    for det in detections:\n",
    "        center = detection_center(det)\n",
    "        if closest_detection is None:\n",
    "            closest_detection = det\n",
    "        elif norm(detection_center(det)) < norm(detection_center(closest_detection)):\n",
    "            closest_detection = det\n",
    "    return closest_detection\n",
    "        \n",
    "def execute(change):\n",
    "    image = change['new']\n",
    "    \n",
    "    # execute collision model to determine if blocked\n",
    "    collision_output = collision_model(preprocess(image)).detach().cpu()\n",
    "    prob_blocked = float(F.softmax(collision_output.flatten(), dim=0)[0])\n",
    "    blocked_widget.value = prob_blocked\n",
    "    \n",
    "    # turn left if blocked\n",
    "    if prob_blocked > 0.5:\n",
    "        robot.left(0.3)\n",
    "        image_widget.value = bgr8_to_jpeg(image)\n",
    "        return\n",
    "        \n",
    "    # compute all detected objects\n",
    "    detections = model(image)\n",
    "    \n",
    "    # draw all detections on image\n",
    "    for det in detections[0]:\n",
    "        bbox = det['bbox']\n",
    "        cv2.rectangle(image, (int(width * bbox[0]), int(height * bbox[1])), (int(width * bbox[2]), int(height * bbox[3])), (255, 0, 0), 2)\n",
    "    \n",
    "    # select detections that match selected class label\n",
    "    matching_detections = [d for d in detections[0] if d['label'] == int(label_widget.value)]\n",
    "    \n",
    "    # get detection closest to center of field of view and draw it\n",
    "    det = closest_detection(matching_detections)\n",
    "    if det is not None:\n",
    "        bbox = det['bbox']\n",
    "        cv2.rectangle(image, (int(width * bbox[0]), int(height * bbox[1])), (int(width * bbox[2]), int(height * bbox[3])), (0, 255, 0), 5)\n",
    "       \n",
    "        \n",
    "    # otherwise go forward if no target detected\n",
    "    if det is None:\n",
    "        robot.forward(float(speed_widget.value))\n",
    "        \n",
    "    # otherwsie steer towards target\n",
    "    else:\n",
    "        # move robot forward and steer proportional target's x-distance from center\n",
    "        center = detection_center(det)\n",
    "        target_dis = norm(center)\n",
    "        if target_dis <= int(distance_widget.value):\n",
    "            robot.stop() \n",
    "        else:\n",
    "            robot.set_motors(\n",
    "                float(speed_widget.value + turn_gain_widget.value * center[0]),\n",
    "                float(speed_widget.value - turn_gain_widget.value * center[0])\n",
    "            )\n",
    "    \n",
    "    # update image widget\n",
    "    image_widget.value = bgr8_to_jpeg(image)\n",
    "    \n",
    "execute({'new': camera.value})"
   ]
  },
  {
   "cell_type": "markdown",
   "metadata": {},
   "source": [
    "Call the block below to connect the execute function to each camera frame update."
   ]
  },
  {
   "cell_type": "code",
   "execution_count": null,
   "metadata": {},
   "outputs": [],
   "source": [
    "camera.unobserve_all()\n",
    "camera.observe(execute, names='value')"
   ]
  },
  {
   "cell_type": "markdown",
   "metadata": {},
   "source": [
    "Awesome!  If the robot is not blocked you should see boxes drawn around the detected objects in blue.  The target object (which the robot follows) will be displayed in green.\n",
    "\n",
    "The robot should steer towards the target when it is detected.  If it is blocked by an object it will simply turn left.\n",
    "\n",
    "You can call the code block below to manually disconnect the processing from the camera and stop the robot."
   ]
  },
  {
   "cell_type": "code",
   "execution_count": null,
   "metadata": {},
   "outputs": [],
   "source": [
    "import time\n",
    "\n",
    "camera.unobserve_all()\n",
    "time.sleep(1.0)\n",
    "robot.stop()"
   ]
  }
 ],
 "metadata": {
  "kernelspec": {
   "display_name": "Python 3",
   "language": "python",
   "name": "python3"
  },
  "language_info": {
   "codemirror_mode": {
    "name": "ipython",
    "version": 3
   },
   "file_extension": ".py",
   "mimetype": "text/x-python",
   "name": "python",
   "nbconvert_exporter": "python",
   "pygments_lexer": "ipython3",
   "version": "3.6.8"
  }
 },
 "nbformat": 4,
 "nbformat_minor": 2
}
