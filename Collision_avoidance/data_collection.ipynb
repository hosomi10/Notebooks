{
 "cells": [
  {
   "cell_type": "markdown",
   "metadata": {},
   "source": [
    "## 教師データ収集用スクリプト"
   ]
  },
  {
   "cell_type": "markdown",
   "metadata": {},
   "source": [
    "衝突回避を学習するためのデータを収集します。\n",
    "jetbotは走りながらカメラから画像を取り込み、画像をもとに次の行動を決定します。\n",
    "このタスクでjetbotに必要なことは、障害物がなければまっすぐ進み、障害物があれば左折して回避することの二つです。\n",
    "よって、「障害物がない写真」、「障害物がある写真」の2パターンを用意する必要があります。\n",
    "このスクリプトでは、実際にjetbotを遠隔操作で走らせ、直進する(=障害物がない)か左折する(=障害物がある)かを選択します。\n",
    "直進中に撮られた写真には直進のラベルがつけられ、左折中に撮られた写真には左折のラベルがつけられます。\n",
    "AIはこのデータを使って、どれが直進していい画像なのかを学習することになります。"
   ]
  },
  {
   "cell_type": "markdown",
   "metadata": {},
   "source": [
    "AIに使うニューラルネットワークの入力サイズに合わせて、カメラの画像を224px×224pxで保存します。"
   ]
  },
  {
   "cell_type": "code",
   "execution_count": 8,
   "metadata": {},
   "outputs": [],
   "source": [
    "import traitlets\n",
    "import ipywidgets.widgets as widgets\n",
    "from IPython.display import display\n",
    "from jetbot import Camera, bgr8_to_jpeg\n",
    "\n",
    "camera = Camera.instance(width=224, height=224)\n",
    "\n",
    "image = widgets.Image(format='jpeg', width=224, height=224)  # this width and height doesn't necessarily have to match the camera\n",
    "cap_image = widgets.Image(format='jpeg', width=224, height=224)\n",
    "\n",
    "camera_link = traitlets.dlink((camera, 'value'), (image, 'value'), transform=bgr8_to_jpeg)\n"
   ]
  },
  {
   "cell_type": "markdown",
   "metadata": {},
   "source": [
    "画像を保存するフォルダを設定します。\n",
    "障害物のない画像は`dataset/free`に、障害物のある画像は`dataset/blocked`に保存します。"
   ]
  },
  {
   "cell_type": "code",
   "execution_count": 2,
   "metadata": {},
   "outputs": [
    {
     "name": "stdout",
     "output_type": "stream",
     "text": [
      "Directories not created becasue they already exist\n"
     ]
    }
   ],
   "source": [
    "import os\n",
    "\n",
    "blocked_dir = 'dataset/blocked'\n",
    "free_dir = 'dataset/free'\n",
    "\n",
    "# we have this \"try/except\" statement because these next functions can throw an error if the directories exist already\n",
    "try:\n",
    "    os.makedirs(free_dir)\n",
    "    os.makedirs(blocked_dir)\n",
    "except FileExistsError:\n",
    "    print('Directories not created becasue they already exist')"
   ]
  },
  {
   "cell_type": "markdown",
   "metadata": {},
   "source": [
    "操作ボタンを定義します。"
   ]
  },
  {
   "cell_type": "code",
   "execution_count": 10,
   "metadata": {},
   "outputs": [],
   "source": [
    "button_layout = widgets.Layout(width='200px', height='48px')\n",
    "counter_layout = widgets.Layout(width='200px', height='30px')\n",
    "text_layout = widgets.Layout(width='256px', height='30px')\n",
    "\n",
    "free_count = widgets.IntText(layout=counter_layout, value=len(os.listdir(free_dir)),description='free')\n",
    "blocked_count = widgets.IntText(layout=counter_layout, value=len(os.listdir(blocked_dir)),description='blocked')\n",
    "\n",
    "capture_free_button = widgets.Button(description='Capture free', button_style='success', layout=button_layout)\n",
    "capture_blocked_button = widgets.Button(description='Capture blocked', button_style='danger', layout=button_layout)\n",
    "\n",
    "free_button = widgets.Button(description='Forward', button_style='success', layout=button_layout)\n",
    "stop_button = widgets.Button(description='Stop', button_style='info', layout=button_layout)\n",
    "blocked_button = widgets.Button(description='Left', button_style='danger', layout=button_layout)\n",
    " \n",
    "speed_slider=widgets.FloatSlider(description='speed',value=0.3,min=0,max=1,step=0.01)\n",
    "turn_slider=widgets.FloatSlider(description='turn left',value=0.3,min=0,max=1,step=0.01)\n",
    "\n",
    "zip_text=widgets.Text(layout=text_layout, value=\"dataset\",description='zipfile:')"
   ]
  },
  {
   "cell_type": "markdown",
   "metadata": {},
   "source": [
    "各フォルダに写真を保存するメソッドを定義しています。"
   ]
  },
  {
   "cell_type": "code",
   "execution_count": 12,
   "metadata": {},
   "outputs": [],
   "source": [
    "from uuid import uuid1\n",
    "\n",
    "def save_snapshot(directory):\n",
    "    cap_image=image\n",
    "    image_path = os.path.join(directory, str(uuid1()) + '.jpg')\n",
    "    with open(image_path, 'wb') as f:\n",
    "        f.write(cap_image.value)\n",
    "def save_free():\n",
    "    global free_dir, free_count\n",
    "    save_snapshot(free_dir)\n",
    "    free_count.value = len(os.listdir(free_dir))\n",
    "    \n",
    "def save_blocked():\n",
    "    global blocked_dir, blocked_count\n",
    "    save_snapshot(blocked_dir)\n",
    "    blocked_count.value = len(os.listdir(blocked_dir))\n",
    "\n",
    "capture_free_button.on_click(lambda x: save_free())\n",
    "capture_blocked_button.on_click(lambda x: save_blocked())"
   ]
  },
  {
   "cell_type": "markdown",
   "metadata": {},
   "source": [
    "モータを制御するため、Robotインスタンスを生成します。"
   ]
  },
  {
   "cell_type": "code",
   "execution_count": 6,
   "metadata": {},
   "outputs": [
    {
     "ename": "ModuleNotFoundError",
     "evalue": "No module named 'jetbot'",
     "output_type": "error",
     "traceback": [
      "\u001b[1;31m---------------------------------------------------------------------------\u001b[0m",
      "\u001b[1;31mModuleNotFoundError\u001b[0m                       Traceback (most recent call last)",
      "\u001b[1;32m<ipython-input-6-0d645a671fbb>\u001b[0m in \u001b[0;36m<module>\u001b[1;34m\u001b[0m\n\u001b[1;32m----> 1\u001b[1;33m \u001b[1;32mfrom\u001b[0m \u001b[0mjetbot\u001b[0m \u001b[1;32mimport\u001b[0m \u001b[0mRobot\u001b[0m\u001b[1;33m\u001b[0m\u001b[1;33m\u001b[0m\u001b[0m\n\u001b[0m\u001b[0;32m      2\u001b[0m \u001b[0mrobot\u001b[0m \u001b[1;33m=\u001b[0m \u001b[0mRobot\u001b[0m\u001b[1;33m(\u001b[0m\u001b[1;33m)\u001b[0m\u001b[1;33m\u001b[0m\u001b[1;33m\u001b[0m\u001b[0m\n",
      "\u001b[1;31mModuleNotFoundError\u001b[0m: No module named 'jetbot'"
     ]
    }
   ],
   "source": [
    "from jetbot import Robot\n",
    "robot = Robot()"
   ]
  },
  {
   "cell_type": "markdown",
   "metadata": {},
   "source": [
    "ボタンを押したときのjetbotの挙動を定義します。\n",
    "前進の時は前進し続けながら一定間隔で画像を保存します。\n",
    "左折の時は、写真を撮り、少し左へ方向転換して止まります。\n",
    "これは、直進の時はあまり操作が必要ないので効率性を重視し、障害物を回避するときには慎重に操作する必要があるので確実性を重視したためです。"
   ]
  },
  {
   "cell_type": "code",
   "execution_count": 14,
   "metadata": {},
   "outputs": [],
   "source": [
    "import time\n",
    "\n",
    "isFree = False\n",
    "isRunning = False\n",
    "stepcount = 0\n",
    "\n",
    "def set_forward(change):\n",
    "    global stepcount, isFree, isRunning, robot\n",
    "    stepcount = 0\n",
    "    isRunning = True\n",
    "    isFree = True\n",
    "\n",
    "def set_left(change):\n",
    "    global stepcount, isFree, isRunning, robot\n",
    "    robot.stop()\n",
    "    save_blocked()\n",
    "    robot.left(turn_slider.value)\n",
    "    stepcount = 0\n",
    "    isRunning = True\n",
    "    isFree = False\n",
    "            \n",
    "\n",
    "def update(change):\n",
    "    global stepcount, isFree, isRunning, robot\n",
    "    time.sleep(0.001)\n",
    "    if(isRunning):\n",
    "        if(isFree):\n",
    "            if(stepcount % 25 == 0):\n",
    "                robot.stop()\n",
    "                save_free()\n",
    "                robot.forward(speed_slider.value)\n",
    "        else:\n",
    "            if(stepcount % 6 == 5):\n",
    "                isRunning = False\n",
    "                robot.stop()\n",
    "        stepcount += 1\n",
    "        \n",
    "    \n",
    "def stop(change):\n",
    "    global isRunning, robot\n",
    "    isRunning = False\n",
    "    robot.stop()\n",
    "\n",
    "free_button.on_click(set_forward)\n",
    "blocked_button.on_click(set_left)\n",
    "stop_button.on_click(stop)"
   ]
  },
  {
   "cell_type": "markdown",
   "metadata": {},
   "source": [
    "UIを表示させます。UIを構成するのはカメラからのイメージと操作パネルです。\n",
    "操作パネル上段には、直進ボタンと直進フォルダに保存された画像の数が表示されます。\n",
    "また、中段には左折ボタンと左折フォルダに保存された画像の数を表示されます。\n",
    "最後に止まるボタンを表示します。"
   ]
  },
  {
   "cell_type": "code",
   "execution_count": 13,
   "metadata": {},
   "outputs": [
    {
     "data": {
      "application/vnd.jupyter.widget-view+json": {
       "model_id": "938171f589b7474984913ffdedb0e605",
       "version_major": 2,
       "version_minor": 0
      },
      "text/plain": [
       "Image(value=b'', format='jpeg', height='224', width='224')"
      ]
     },
     "metadata": {},
     "output_type": "display_data"
    },
    {
     "data": {
      "application/vnd.jupyter.widget-view+json": {
       "model_id": "f697190372fd4b1597c5ed894ed80a1d",
       "version_major": 2,
       "version_minor": 0
      },
      "text/plain": [
       "HBox(children=(IntText(value=2, description='free', layout=Layout(height='30px', width='128px')), IntText(valu…"
      ]
     },
     "metadata": {},
     "output_type": "display_data"
    },
    {
     "data": {
      "application/vnd.jupyter.widget-view+json": {
       "model_id": "271703aff5e342b4a3db2a064415ca88",
       "version_major": 2,
       "version_minor": 0
      },
      "text/plain": [
       "HBox(children=(Button(button_style='success', description='Capture free', layout=Layout(height='48px', width='…"
      ]
     },
     "metadata": {},
     "output_type": "display_data"
    },
    {
     "data": {
      "application/vnd.jupyter.widget-view+json": {
       "model_id": "589d9803976449a2821b18534be18cc8",
       "version_major": 2,
       "version_minor": 0
      },
      "text/plain": [
       "HBox(children=(Button(button_style='success', description='Forward', layout=Layout(height='48px', width='128px…"
      ]
     },
     "metadata": {},
     "output_type": "display_data"
    },
    {
     "data": {
      "application/vnd.jupyter.widget-view+json": {
       "model_id": "429bbaf73afe442a82925f2889045aac",
       "version_major": 2,
       "version_minor": 0
      },
      "text/plain": [
       "Button(button_style='info', description='Stop', layout=Layout(height='48px', width='128px'), style=ButtonStyle…"
      ]
     },
     "metadata": {},
     "output_type": "display_data"
    },
    {
     "data": {
      "application/vnd.jupyter.widget-view+json": {
       "model_id": "c53c26db46434ac997ff90f74a9a0c27",
       "version_major": 2,
       "version_minor": 0
      },
      "text/plain": [
       "FloatSlider(value=0.3, description='speed', max=1.0, step=0.01)"
      ]
     },
     "metadata": {},
     "output_type": "display_data"
    },
    {
     "data": {
      "application/vnd.jupyter.widget-view+json": {
       "model_id": "2fd72c3e8e1c4f609a11c1f52b0519d0",
       "version_major": 2,
       "version_minor": 0
      },
      "text/plain": [
       "FloatSlider(value=0.3, description='turn left', max=1.0, step=0.01)"
      ]
     },
     "metadata": {},
     "output_type": "display_data"
    },
    {
     "ename": "NameError",
     "evalue": "name 'robot' is not defined",
     "output_type": "error",
     "traceback": [
      "\u001b[1;31m---------------------------------------------------------------------------\u001b[0m",
      "\u001b[1;31mNameError\u001b[0m                                 Traceback (most recent call last)",
      "\u001b[1;32m<ipython-input-14-350fa289b79b>\u001b[0m in \u001b[0;36mset_left\u001b[1;34m(change)\u001b[0m\n\u001b[0;32m     13\u001b[0m \u001b[1;32mdef\u001b[0m \u001b[0mset_left\u001b[0m\u001b[1;33m(\u001b[0m\u001b[0mchange\u001b[0m\u001b[1;33m)\u001b[0m\u001b[1;33m:\u001b[0m\u001b[1;33m\u001b[0m\u001b[1;33m\u001b[0m\u001b[0m\n\u001b[0;32m     14\u001b[0m     \u001b[1;32mglobal\u001b[0m \u001b[0mstepcount\u001b[0m\u001b[1;33m,\u001b[0m \u001b[0misFree\u001b[0m\u001b[1;33m,\u001b[0m \u001b[0misRunning\u001b[0m\u001b[1;33m,\u001b[0m \u001b[0mrobot\u001b[0m\u001b[1;33m\u001b[0m\u001b[1;33m\u001b[0m\u001b[0m\n\u001b[1;32m---> 15\u001b[1;33m     \u001b[0mrobot\u001b[0m\u001b[1;33m.\u001b[0m\u001b[0mstop\u001b[0m\u001b[1;33m(\u001b[0m\u001b[1;33m)\u001b[0m\u001b[1;33m\u001b[0m\u001b[1;33m\u001b[0m\u001b[0m\n\u001b[0m\u001b[0;32m     16\u001b[0m     \u001b[0msave_blocked\u001b[0m\u001b[1;33m(\u001b[0m\u001b[1;33m)\u001b[0m\u001b[1;33m\u001b[0m\u001b[1;33m\u001b[0m\u001b[0m\n\u001b[0;32m     17\u001b[0m     \u001b[0mrobot\u001b[0m\u001b[1;33m.\u001b[0m\u001b[0mleft\u001b[0m\u001b[1;33m(\u001b[0m\u001b[0mturn_slider\u001b[0m\u001b[1;33m.\u001b[0m\u001b[0mvalue\u001b[0m\u001b[1;33m)\u001b[0m\u001b[1;33m\u001b[0m\u001b[1;33m\u001b[0m\u001b[0m\n",
      "\u001b[1;31mNameError\u001b[0m: name 'robot' is not defined"
     ]
    },
    {
     "ename": "NameError",
     "evalue": "name 'robot' is not defined",
     "output_type": "error",
     "traceback": [
      "\u001b[1;31m---------------------------------------------------------------------------\u001b[0m",
      "\u001b[1;31mNameError\u001b[0m                                 Traceback (most recent call last)",
      "\u001b[1;32m<ipython-input-14-350fa289b79b>\u001b[0m in \u001b[0;36mstop\u001b[1;34m(change)\u001b[0m\n\u001b[0;32m     40\u001b[0m     \u001b[1;32mglobal\u001b[0m \u001b[0misRunning\u001b[0m\u001b[1;33m,\u001b[0m \u001b[0mrobot\u001b[0m\u001b[1;33m\u001b[0m\u001b[1;33m\u001b[0m\u001b[0m\n\u001b[0;32m     41\u001b[0m     \u001b[0misRunning\u001b[0m \u001b[1;33m=\u001b[0m \u001b[1;32mFalse\u001b[0m\u001b[1;33m\u001b[0m\u001b[1;33m\u001b[0m\u001b[0m\n\u001b[1;32m---> 42\u001b[1;33m     \u001b[0mrobot\u001b[0m\u001b[1;33m.\u001b[0m\u001b[0mstop\u001b[0m\u001b[1;33m(\u001b[0m\u001b[1;33m)\u001b[0m\u001b[1;33m\u001b[0m\u001b[1;33m\u001b[0m\u001b[0m\n\u001b[0m\u001b[0;32m     43\u001b[0m \u001b[1;33m\u001b[0m\u001b[0m\n\u001b[0;32m     44\u001b[0m \u001b[0mfree_button\u001b[0m\u001b[1;33m.\u001b[0m\u001b[0mon_click\u001b[0m\u001b[1;33m(\u001b[0m\u001b[0mset_forward\u001b[0m\u001b[1;33m)\u001b[0m\u001b[1;33m\u001b[0m\u001b[1;33m\u001b[0m\u001b[0m\n",
      "\u001b[1;31mNameError\u001b[0m: name 'robot' is not defined"
     ]
    }
   ],
   "source": [
    "display(cap_image)\n",
    "Counter=widgets.HBox([free_count,blocked_count])\n",
    "Capture=widgets.HBox([capture_free_button,capture_blocked_button])\n",
    "Foward_Left=widgets.HBox([free_button,blocked_button])\n",
    "display(Counter)\n",
    "display(Capture)\n",
    "display(Foward_Left)\n",
    "display(stop_button)\n",
    "display(speed_slider)\n",
    "display(turn_slider)\n",
    "#display(zip_text)"
   ]
  },
  {
   "cell_type": "markdown",
   "metadata": {},
   "source": [
    "カメラに先ほど定義したメソッドを紐づけます。\n",
    "カメラの画像が更新されるたびにupdateメソッドが呼ばれることになります。\n",
    "これを実行することで、ボタンを押すとjetbotが走り出すようになります。"
   ]
  },
  {
   "cell_type": "code",
   "execution_count": 15,
   "metadata": {},
   "outputs": [
    {
     "ename": "NameError",
     "evalue": "name 'camera' is not defined",
     "output_type": "error",
     "traceback": [
      "\u001b[1;31m---------------------------------------------------------------------------\u001b[0m",
      "\u001b[1;31mNameError\u001b[0m                                 Traceback (most recent call last)",
      "\u001b[1;32m<ipython-input-15-3d3731dcf3cf>\u001b[0m in \u001b[0;36m<module>\u001b[1;34m\u001b[0m\n\u001b[1;32m----> 1\u001b[1;33m \u001b[0mcamera\u001b[0m\u001b[1;33m.\u001b[0m\u001b[0mobserve\u001b[0m\u001b[1;33m(\u001b[0m\u001b[0mupdate\u001b[0m\u001b[1;33m,\u001b[0m \u001b[0mnames\u001b[0m\u001b[1;33m=\u001b[0m\u001b[1;34m'value'\u001b[0m\u001b[1;33m)\u001b[0m\u001b[1;33m\u001b[0m\u001b[1;33m\u001b[0m\u001b[0m\n\u001b[0m",
      "\u001b[1;31mNameError\u001b[0m: name 'camera' is not defined"
     ]
    }
   ],
   "source": [
    "camera.observe(update, names='value')"
   ]
  },
  {
   "cell_type": "markdown",
   "metadata": {},
   "source": [
    "以下はデータ収集の終了後に実行する処理です。\n",
    "updateメソッドとカメラとの関連付けを外します。\n",
    "また、jetbotを停止させます。"
   ]
  },
  {
   "cell_type": "code",
   "execution_count": 10,
   "metadata": {},
   "outputs": [
    {
     "ename": "NameError",
     "evalue": "name 'camera' is not defined",
     "output_type": "error",
     "traceback": [
      "\u001b[1;31m---------------------------------------------------------------------------\u001b[0m",
      "\u001b[1;31mNameError\u001b[0m                                 Traceback (most recent call last)",
      "\u001b[1;32m<ipython-input-10-c1caefe4472a>\u001b[0m in \u001b[0;36m<module>\u001b[1;34m\u001b[0m\n\u001b[1;32m----> 1\u001b[1;33m \u001b[0mcamera\u001b[0m\u001b[1;33m.\u001b[0m\u001b[0munobserve\u001b[0m\u001b[1;33m(\u001b[0m\u001b[0mupdate\u001b[0m\u001b[1;33m,\u001b[0m \u001b[0mnames\u001b[0m\u001b[1;33m=\u001b[0m\u001b[1;34m'value'\u001b[0m\u001b[1;33m)\u001b[0m\u001b[1;33m\u001b[0m\u001b[1;33m\u001b[0m\u001b[0m\n\u001b[0m\u001b[0;32m      2\u001b[0m \u001b[0mrobot\u001b[0m\u001b[1;33m.\u001b[0m\u001b[0mstop\u001b[0m\u001b[1;33m(\u001b[0m\u001b[1;33m)\u001b[0m\u001b[1;33m\u001b[0m\u001b[1;33m\u001b[0m\u001b[0m\n",
      "\u001b[1;31mNameError\u001b[0m: name 'camera' is not defined"
     ]
    }
   ],
   "source": [
    "camera.unobserve(update, names='value')\n",
    "robot.stop()"
   ]
  },
  {
   "cell_type": "markdown",
   "metadata": {},
   "source": [
    "datasetフォルダの中身をzipファイルにして保存し、ダウンロード可能にします。\n",
    "jetbot上で学習も行う場合は不要です。"
   ]
  },
  {
   "cell_type": "code",
   "execution_count": 9,
   "metadata": {},
   "outputs": [
    {
     "ename": "SyntaxError",
     "evalue": "invalid syntax (<ipython-input-9-0015766eaea9>, line 1)",
     "output_type": "error",
     "traceback": [
      "\u001b[1;36m  File \u001b[1;32m\"<ipython-input-9-0015766eaea9>\"\u001b[1;36m, line \u001b[1;32m1\u001b[0m\n\u001b[1;33m    zip -r -q dataset.zip dataset\u001b[0m\n\u001b[1;37m                    ^\u001b[0m\n\u001b[1;31mSyntaxError\u001b[0m\u001b[1;31m:\u001b[0m invalid syntax\n"
     ]
    }
   ],
   "source": [
    "!zip -r -q dataset.zip dataset"
   ]
  },
  {
   "cell_type": "code",
   "execution_count": null,
   "metadata": {},
   "outputs": [],
   "source": []
  }
 ],
 "metadata": {
  "celltoolbar": "Tags",
  "kernelspec": {
   "display_name": "Python 3",
   "language": "python",
   "name": "python3"
  },
  "language_info": {
   "codemirror_mode": {
    "name": "ipython",
    "version": 3
   },
   "file_extension": ".py",
   "mimetype": "text/x-python",
   "name": "python",
   "nbconvert_exporter": "python",
   "pygments_lexer": "ipython3",
   "version": "3.6.7"
  }
 },
 "nbformat": 4,
 "nbformat_minor": 2
}
