{
 "cells": [
  {
   "cell_type": "markdown",
   "metadata": {},
   "source": [
    "# Object Detect - Image demo using tflite"
   ]
  },
  {
   "cell_type": "code",
   "execution_count": 1,
   "metadata": {},
   "outputs": [],
   "source": [
    "import tflite_runtime.interpreter as tflite"
   ]
  },
  {
   "cell_type": "markdown",
   "metadata": {},
   "source": [
    "In this notebook, we will use model tflite object detect"
   ]
  },
  {
   "cell_type": "markdown",
   "metadata": {},
   "source": [
    "### Load Trained Model"
   ]
  },
  {
   "cell_type": "markdown",
   "metadata": {},
   "source": [
    "coco detect model  ``detect.tflite``\n",
    "> Please make sure the file has uploaded fully before calling the next cell"
   ]
  },
  {
   "cell_type": "markdown",
   "metadata": {},
   "source": []
  },
  {
   "cell_type": "code",
   "execution_count": 2,
   "metadata": {},
   "outputs": [],
   "source": [
    "import numpy as np\n",
    "import cv2\n",
    "from pathlib import Path"
   ]
  },
  {
   "cell_type": "code",
   "execution_count": 3,
   "metadata": {},
   "outputs": [],
   "source": [
    "interpreter = tflite.Interpreter(model_path='tflite_model/detect.tflite')"
   ]
  },
  {
   "cell_type": "markdown",
   "metadata": {},
   "source": [
    "> Load detect label file"
   ]
  },
  {
   "cell_type": "code",
   "execution_count": 4,
   "metadata": {},
   "outputs": [],
   "source": [
    "with open('tflite_model/labelmap.txt', 'r') as F:\n",
    "    class_names = F.readlines()"
   ]
  },
  {
   "cell_type": "markdown",
   "metadata": {},
   "source": [
    "### Pre-Processing Interpreter and test Image"
   ]
  },
  {
   "cell_type": "markdown",
   "metadata": {},
   "source": [
    "tflite interpreter "
   ]
  },
  {
   "cell_type": "code",
   "execution_count": 5,
   "metadata": {},
   "outputs": [],
   "source": [
    "interpreter.allocate_tensors()\n",
    "input_details = interpreter.get_input_details()\n",
    "output_details = interpreter.get_output_details()"
   ]
  },
  {
   "cell_type": "markdown",
   "metadata": {},
   "source": [
    "prepare image data"
   ]
  },
  {
   "cell_type": "code",
   "execution_count": 6,
   "metadata": {},
   "outputs": [],
   "source": [
    "from jetbot import Camera\n",
    "\n",
    "camera = Camera.instance(width=300, height=300)\n",
    "\n",
    "# prepara input image\n",
    "img = camera.value #cv2.imread('chairs.jpg')\n",
    "x = cv2.resize(img, (300, 300))\n",
    "x = x[:, :, [2,1,0]]  # BGR -> RGB\n",
    "x = np.expand_dims(x, axis=0) # 3->4"
   ]
  },
  {
   "cell_type": "markdown",
   "metadata": {},
   "source": [
    "set input tensor"
   ]
  },
  {
   "cell_type": "code",
   "execution_count": 10,
   "metadata": {},
   "outputs": [
    {
     "name": "stdout",
     "output_type": "stream",
     "text": [
      "detect time=365.1827260000573\n"
     ]
    }
   ],
   "source": [
    "import time\n",
    "\n",
    "start_time = time.monotonic()\n",
    "interpreter.set_tensor(input_details[0]['index'], x)\n",
    "interpreter.invoke()\n",
    "elapsed_ms = (time.monotonic() - start_time) * 1000\n",
    "print('detect time={}'.format(elapsed_ms))"
   ]
  },
  {
   "cell_type": "markdown",
   "metadata": {},
   "source": [
    "get outpu tensor"
   ]
  },
  {
   "cell_type": "code",
   "execution_count": 8,
   "metadata": {},
   "outputs": [],
   "source": [
    "tflite_results1 = interpreter.get_tensor(output_details[0]['index'])  \n",
    "tflite_results2 = interpreter.get_tensor(output_details[1]['index'])  \n",
    "tflite_results3 = interpreter.get_tensor(output_details[2]['index']) \n",
    "tflite_results4 = interpreter.get_tensor(output_details[3]['index'])  "
   ]
  },
  {
   "cell_type": "markdown",
   "metadata": {},
   "source": [
    "### detect result"
   ]
  },
  {
   "cell_type": "code",
   "execution_count": 9,
   "metadata": {
    "scrolled": true
   },
   "outputs": [
    {
     "name": "stdout",
     "output_type": "stream",
     "text": [
      "Location=(57,21)-(264,279)\n",
      "Class=chair\n",
      "Probability=0.80859375\n",
      "Location=(13,54)-(121,184)\n",
      "Class=chair\n",
      "Probability=0.62109375\n",
      "Location=(167,37)-(287,177)\n",
      "Class=chair\n",
      "Probability=0.59765625\n",
      "Location=(51,25)-(169,175)\n",
      "Class=chair\n",
      "Probability=0.5859375\n",
      "Location=(151,38)-(284,269)\n",
      "Class=chair\n",
      "Probability=0.55078125\n",
      "Location=(92,93)-(263,284)\n",
      "Class=chair\n",
      "Probability=0.5\n"
     ]
    }
   ],
   "source": [
    "dstimg = cv2.resize(img, (480, 480))\n",
    "for i in range(int(tflite_results4[0])):\n",
    "    (top, left, bottom, right) = tflite_results1[0, i] * 300\n",
    "    class_name = class_names[tflite_results2[0, i].astype(int)].rstrip()\n",
    "    prob = tflite_results3[0, i]\n",
    "    if prob >= 0.5:\n",
    "        print(\"Location=({},{})-({},{})\".format(int(left), int(top), int(right), int(bottom)))\n",
    "        print(\"Class={}\".format(class_name))\n",
    "        print(\"Probability={}\".format(prob))\n",
    "        left = int(left * 480 / 300)\n",
    "        right = int(right * 480 / 300)\n",
    "        top =  int(top * 480 / 300)\n",
    "        bottom = int(bottom * 480 / 300)\n",
    "        cv2.rectangle(dstimg, (left, top), (right, bottom), (0, 0, 255), 1)"
   ]
  },
  {
   "cell_type": "markdown",
   "metadata": {},
   "source": [
    "Show a result image "
   ]
  },
  {
   "cell_type": "code",
   "execution_count": null,
   "metadata": {},
   "outputs": [],
   "source": [
    "cv2.imshow(\"test image\", dstimg)\n",
    "cv2.moveWindow(\"test image\", 0, 0)\n",
    "cv2.waitKey(0)\n",
    "cv2.destroyAllWindows()"
   ]
  },
  {
   "cell_type": "markdown",
   "metadata": {},
   "source": [
    "End!"
   ]
  },
  {
   "cell_type": "code",
   "execution_count": null,
   "metadata": {},
   "outputs": [],
   "source": []
  }
 ],
 "metadata": {
  "kernelspec": {
   "display_name": "Python 3",
   "language": "python",
   "name": "python3"
  },
  "language_info": {
   "codemirror_mode": {
    "name": "ipython",
    "version": 3
   },
   "file_extension": ".py",
   "mimetype": "text/x-python",
   "name": "python",
   "nbconvert_exporter": "python",
   "pygments_lexer": "ipython3",
   "version": "3.6.8"
  }
 },
 "nbformat": 4,
 "nbformat_minor": 4
}
